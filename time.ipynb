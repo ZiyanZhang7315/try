{
 "cells": [
  {
   "cell_type": "code",
   "execution_count": null,
   "id": "7f4712dd-a67b-45d0-ad80-e3bc9d16bfbe",
   "metadata": {
    "vscode": {
     "languageId": "r"
    }
   },
   "outputs": [],
   "source": [
    "####trW\n",
    "if (!require(MASS)) {\n",
    "  install.packages(\"MASS\")\n",
    "  library(MASS)\n",
    "}\n",
    "\n",
    "tr <- function(matrix){\n",
    "    sum(diag(matrix))\n",
    "    }\n",
    "simulateVC_old <- function(n, m, N, s2_gxg, s2_e){\n",
    "#Generates X, gamma, y\n",
    " times <- list()\n",
    " t0 <- proc.time()\n",
    " X = matrix(rnorm(n*m),nrow = n,ncol =m)\n",
    " XT = t(X)\n",
    " p = m*(m-1)/2\n",
    " p_hat = m^2\n",
    " D = (X^2) %*% t(X^2)\n",
    " K = X %*% t(X)\n",
    " Q = K^2%*%D\n",
    " W = (K*K - D)/(2*p)\n",
    " trW = tr(W)\n",
    " trW2 =(tr(K^2 %*% K^2) - 2*tr(Q) + tr(D%*%D))/(4*p^2)\n",
    " times$exact <- (proc.time() - t0)[\"elapsed\"]   \n",
    "  #gamma = rnorm(p, mean = 0, sd = sqrt(s2_gxg / p))\n",
    "  #y <- mvrnorm(mu = as.vector(H %*% gamma), Sigma = s2_e * diag(n))\n",
    "  t1 <- proc.time()\n",
    "  y <- mvrnorm(mu = rep(0, n), Sigma = (1/(2*p))*(K*K - D)*s2_gxg  + s2_e * diag(n))\n",
    "  Dy <- diag(c(y))\n",
    "  times$y <- (proc.time() - t1)[\"elapsed\"]\n",
    "  #### appromation part\n",
    "  #### trW^2\n",
    "  t2 <- proc.time()\n",
    "  row_sq <- rowSums(X^2)\n",
    "  Zmat <- replicate(N, {\n",
    "    u1 <- rnorm(m)\n",
    "    v  <- X %*% u1\n",
    "    v^2 - row_sq\n",
    "  })\n",
    "  z_hat <- rowSums(Zmat) / (2 * sqrt(N))\n",
    "\n",
    "     Dz <- diag(c(z_hat))\n",
    "     element1<-sum(replicate(N, {\n",
    "       u2 <- rnorm(n) \n",
    "       val<-t(u2)%*%X%*%XT%*%Dz%*%X%*%XT%*%Dz%*%u2\n",
    "     }))/(2*p^2*N)#\n",
    "     est_trW2 = c(element1 - (t(z_hat)%*%(X*X)%*%t((X*X))%*%z_hat)/(2*p^2))\n",
    "    times$trW2 <- (proc.time() - t2)[\"elapsed\"]\n",
    "   #### trW checked  \n",
    "    t3 <- proc.time()\n",
    "   res_mat <- replicate(N, {\n",
    "      u <- rnorm(m)           \n",
    "      v <- X %*% u           \n",
    "      (v^2 - rowSums(X^2))^2     \n",
    "    })\n",
    "    est_trW <- sum(res_mat) / (4*p*N)\n",
    "    times$trW <- (proc.time() - t3)[\"elapsed\"]\n",
    "    #### ytWy  \n",
    "    t4 <- proc.time()\n",
    "     est_kk<- sum(replicate(N, {\n",
    "       u <- rnorm(n)\n",
    "       value <- (t(u) %*% Dy %*% K %*% Dy %*% K %*% u)\n",
    "     }))/N\n",
    "    \n",
    "    est_yTW_haty <- est_kk/p_hat\n",
    "    est_yTWy<- (p_hat*est_yTW_haty - t(y)%*% ((X^2) %*% t(X^2))%*%y)/(2*p)\n",
    "    times$ytWy <- (proc.time() - t4)[\"elapsed\"]\n",
    "     ####the \\theat_hat \n",
    "    t5 <- proc.time()\n",
    "     s2_gxg_hat = (n* (y) %*% W %*%y - trW*(y) %*%y)/(n*trW2 - trW^2)\n",
    "     s2_e_hat = ((y) %*% W %*%y*trW-(y) %*%y*trW2)/(trW^2-n*trW2)\n",
    "\n",
    "     s2_gxg_app = (n* est_yTWy - est_trW*(y) %*%y)/(n*est_trW2 - est_trW^2)\n",
    "     s2_e_app = (est_yTWy * est_trW-(y) %*%y*est_trW2)/(est_trW^2-n*est_trW2)\n",
    "     times$solve <- (proc.time() - t5)[\"elapsed\"]\n",
    "    result <- c(s2_gxg_hat, s2_e_hat, s2_gxg_app, s2_e_app,\n",
    "              trW, est_trW, trW2, est_trW2,\n",
    "              (y %*% W %*% y), est_yTWy)\n",
    "    list(timing = times, output = result)\n",
    "}"
   ]
  },
  {
   "cell_type": "code",
   "execution_count": null,
   "id": "ed5de6b5",
   "metadata": {
    "vscode": {
     "languageId": "r"
    }
   },
   "outputs": [],
   "source": [
    "simulateVC_old(100, 100, 100, 0.7, 0.3)"
   ]
  },
  {
   "cell_type": "code",
   "execution_count": 127,
   "id": "957bee3b-3162-4776-8bf7-261b07adcf3a",
   "metadata": {
    "vscode": {
     "languageId": "r"
    }
   },
   "outputs": [
    {
     "data": {
      "text/html": [
       "<dl>\n",
       "\t<dt>$timing</dt>\n",
       "\t\t<dd><dl>\n",
       "\t<dt>$exact</dt>\n",
       "\t\t<dd><strong>elapsed:</strong> 35.7200000000012</dd>\n",
       "\t<dt>$y</dt>\n",
       "\t\t<dd><strong>elapsed:</strong> 105.41</dd>\n",
       "\t<dt>$trW2</dt>\n",
       "\t\t<dd><strong>elapsed:</strong> 37.4799999999996</dd>\n",
       "\t<dt>$trW</dt>\n",
       "\t\t<dd><strong>elapsed:</strong> 7.29999999999927</dd>\n",
       "\t<dt>$ytWy</dt>\n",
       "\t\t<dd><strong>elapsed:</strong> 59.4400000000023</dd>\n",
       "\t<dt>$solve</dt>\n",
       "\t\t<dd><strong>elapsed:</strong> 0.340000000000146</dd>\n",
       "</dl>\n",
       "</dd>\n",
       "\t<dt>$output</dt>\n",
       "\t\t<dd><style>\n",
       ".list-inline {list-style: none; margin:0; padding: 0}\n",
       ".list-inline>li {display: inline-block}\n",
       ".list-inline>li:not(:last-child)::after {content: \"\\00b7\"; padding: 0 .5ex}\n",
       "</style>\n",
       "<ol class=list-inline><li>0.885227318172961</li><li>0.13207194491932</li><li>-0.204437132379182</li><li>1.22328775952379</li><li>10000.4217053204</li><li>10074.0586373775</li><li>10281.5541117173</li><li>10717.3237822034</li><li>10422.2877176007</li><li>10132.453679016</li></ol>\n",
       "</dd>\n",
       "</dl>\n"
      ],
      "text/latex": [
       "\\begin{description}\n",
       "\\item[\\$timing] \\begin{description}\n",
       "\\item[\\$exact] \\textbf{elapsed:} 35.7200000000012\n",
       "\\item[\\$y] \\textbf{elapsed:} 105.41\n",
       "\\item[\\$trW2] \\textbf{elapsed:} 37.4799999999996\n",
       "\\item[\\$trW] \\textbf{elapsed:} 7.29999999999927\n",
       "\\item[\\$ytWy] \\textbf{elapsed:} 59.4400000000023\n",
       "\\item[\\$solve] \\textbf{elapsed:} 0.340000000000146\n",
       "\\end{description}\n",
       "\n",
       "\\item[\\$output] \\begin{enumerate*}\n",
       "\\item 0.885227318172961\n",
       "\\item 0.13207194491932\n",
       "\\item -0.204437132379182\n",
       "\\item 1.22328775952379\n",
       "\\item 10000.4217053204\n",
       "\\item 10074.0586373775\n",
       "\\item 10281.5541117173\n",
       "\\item 10717.3237822034\n",
       "\\item 10422.2877176007\n",
       "\\item 10132.453679016\n",
       "\\end{enumerate*}\n",
       "\n",
       "\\end{description}\n"
      ],
      "text/markdown": [
       "$timing\n",
       ":   $exact\n",
       ":   **elapsed:** 35.7200000000012\n",
       "$y\n",
       ":   **elapsed:** 105.41\n",
       "$trW2\n",
       ":   **elapsed:** 37.4799999999996\n",
       "$trW\n",
       ":   **elapsed:** 7.29999999999927\n",
       "$ytWy\n",
       ":   **elapsed:** 59.4400000000023\n",
       "$solve\n",
       ":   **elapsed:** 0.340000000000146\n",
       "\n",
       "\n",
       "\n",
       "$output\n",
       ":   1. 0.885227318172961\n",
       "2. 0.13207194491932\n",
       "3. -0.204437132379182\n",
       "4. 1.22328775952379\n",
       "5. 10000.4217053204\n",
       "6. 10074.0586373775\n",
       "7. 10281.5541117173\n",
       "8. 10717.3237822034\n",
       "9. 10422.2877176007\n",
       "10. 10132.453679016\n",
       "\n",
       "\n",
       "\n",
       "\n",
       "\n"
      ],
      "text/plain": [
       "$timing\n",
       "$timing$exact\n",
       "elapsed \n",
       "  35.72 \n",
       "\n",
       "$timing$y\n",
       "elapsed \n",
       " 105.41 \n",
       "\n",
       "$timing$trW2\n",
       "elapsed \n",
       "  37.48 \n",
       "\n",
       "$timing$trW\n",
       "elapsed \n",
       "    7.3 \n",
       "\n",
       "$timing$ytWy\n",
       "elapsed \n",
       "  59.44 \n",
       "\n",
       "$timing$solve\n",
       "elapsed \n",
       "   0.34 \n",
       "\n",
       "\n",
       "$output\n",
       " [1]     0.8852273     0.1320719    -0.2044371     1.2232878 10000.4217053\n",
       " [6] 10074.0586374 10281.5541117 10717.3237822 10422.2877176 10132.4536790\n"
      ]
     },
     "metadata": {},
     "output_type": "display_data"
    }
   ],
   "source": [
    "simulateVC_old(10000, 1000, 100, 0.7, 0.3)"
   ]
  },
  {
   "cell_type": "code",
   "execution_count": 138,
   "id": "a9b5bbb6-1849-4c62-99e6-229d8d6cb880",
   "metadata": {
    "scrolled": true,
    "vscode": {
     "languageId": "r"
    }
   },
   "outputs": [
    {
     "data": {
      "text/html": [
       "<dl>\n",
       "\t<dt>$timing</dt>\n",
       "\t\t<dd><dl>\n",
       "\t<dt>$exact</dt>\n",
       "\t\t<dd><strong>elapsed:</strong> 34.8499999999985</dd>\n",
       "\t<dt>$y</dt>\n",
       "\t\t<dd><strong>elapsed:</strong> 106.600000000002</dd>\n",
       "\t<dt>$trW2</dt>\n",
       "\t\t<dd><strong>elapsed:</strong> 18.3099999999977</dd>\n",
       "\t<dt>$trW</dt>\n",
       "\t\t<dd><strong>elapsed:</strong> 1.63000000000102</dd>\n",
       "\t<dt>$ytWy</dt>\n",
       "\t\t<dd><strong>elapsed:</strong> 17.7799999999988</dd>\n",
       "\t<dt>$solve</dt>\n",
       "\t\t<dd><strong>elapsed:</strong> 0.150000000001455</dd>\n",
       "</dl>\n",
       "</dd>\n",
       "\t<dt>$output</dt>\n",
       "\t\t<dd><style>\n",
       ".list-inline {list-style: none; margin:0; padding: 0}\n",
       ".list-inline>li {display: inline-block}\n",
       ".list-inline>li:not(:last-child)::after {content: \"\\00b7\"; padding: 0 .5ex}\n",
       "</style>\n",
       "<ol class=list-inline><li>0.700694779752533</li><li>0.309155734969133</li><li>0.510279003213061</li><li>0.499747699014988</li><li>9999.41563074978</li><li>9995.74479934851</li><li>10280.1696111419</li><li>10372.4559936384</li><li>10294.6378700841</li><li>10288.1969687206</li></ol>\n",
       "</dd>\n",
       "</dl>\n"
      ],
      "text/latex": [
       "\\begin{description}\n",
       "\\item[\\$timing] \\begin{description}\n",
       "\\item[\\$exact] \\textbf{elapsed:} 34.8499999999985\n",
       "\\item[\\$y] \\textbf{elapsed:} 106.600000000002\n",
       "\\item[\\$trW2] \\textbf{elapsed:} 18.3099999999977\n",
       "\\item[\\$trW] \\textbf{elapsed:} 1.63000000000102\n",
       "\\item[\\$ytWy] \\textbf{elapsed:} 17.7799999999988\n",
       "\\item[\\$solve] \\textbf{elapsed:} 0.150000000001455\n",
       "\\end{description}\n",
       "\n",
       "\\item[\\$output] \\begin{enumerate*}\n",
       "\\item 0.700694779752533\n",
       "\\item 0.309155734969133\n",
       "\\item 0.510279003213061\n",
       "\\item 0.499747699014988\n",
       "\\item 9999.41563074978\n",
       "\\item 9995.74479934851\n",
       "\\item 10280.1696111419\n",
       "\\item 10372.4559936384\n",
       "\\item 10294.6378700841\n",
       "\\item 10288.1969687206\n",
       "\\end{enumerate*}\n",
       "\n",
       "\\end{description}\n"
      ],
      "text/markdown": [
       "$timing\n",
       ":   $exact\n",
       ":   **elapsed:** 34.8499999999985\n",
       "$y\n",
       ":   **elapsed:** 106.600000000002\n",
       "$trW2\n",
       ":   **elapsed:** 18.3099999999977\n",
       "$trW\n",
       ":   **elapsed:** 1.63000000000102\n",
       "$ytWy\n",
       ":   **elapsed:** 17.7799999999988\n",
       "$solve\n",
       ":   **elapsed:** 0.150000000001455\n",
       "\n",
       "\n",
       "\n",
       "$output\n",
       ":   1. 0.700694779752533\n",
       "2. 0.309155734969133\n",
       "3. 0.510279003213061\n",
       "4. 0.499747699014988\n",
       "5. 9999.41563074978\n",
       "6. 9995.74479934851\n",
       "7. 10280.1696111419\n",
       "8. 10372.4559936384\n",
       "9. 10294.6378700841\n",
       "10. 10288.1969687206\n",
       "\n",
       "\n",
       "\n",
       "\n",
       "\n"
      ],
      "text/plain": [
       "$timing\n",
       "$timing$exact\n",
       "elapsed \n",
       "  34.85 \n",
       "\n",
       "$timing$y\n",
       "elapsed \n",
       "  106.6 \n",
       "\n",
       "$timing$trW2\n",
       "elapsed \n",
       "  18.31 \n",
       "\n",
       "$timing$trW\n",
       "elapsed \n",
       "   1.63 \n",
       "\n",
       "$timing$ytWy\n",
       "elapsed \n",
       "  17.78 \n",
       "\n",
       "$timing$solve\n",
       "elapsed \n",
       "   0.15 \n",
       "\n",
       "\n",
       "$output\n",
       " [1] 7.006948e-01 3.091557e-01 5.102790e-01 4.997477e-01 9.999416e+03\n",
       " [6] 9.995745e+03 1.028017e+04 1.037246e+04 1.029464e+04 1.028820e+04\n"
      ]
     },
     "metadata": {},
     "output_type": "display_data"
    }
   ],
   "source": [
    "simulateVC_new(10000, 1000, 100, 0.7, 0.3)"
   ]
  },
  {
   "cell_type": "code",
   "execution_count": 137,
   "id": "72bb0044-aa72-41ff-96b4-9fdface1afab",
   "metadata": {
    "vscode": {
     "languageId": "r"
    }
   },
   "outputs": [],
   "source": [
    "####trW\n",
    "simulateVC_new <- function(n, m, N, s2_gxg, s2_e){\n",
    "#Generates X, gamma, y\n",
    " times <- list()\n",
    " t0 <- proc.time()\n",
    " X = matrix(rnorm(n*m),nrow = n,ncol =m)\n",
    " XT = t(X)\n",
    " p = m*(m-1)/2\n",
    " p_hat = m^2\n",
    " D = (X^2) %*% t(X^2)\n",
    " K = X %*% t(X)\n",
    " Q = K^2%*%D\n",
    " W = (K*K - D)/(2*p)\n",
    " trW = tr(W)\n",
    " rowsumX2 = rowSums(X^2)\n",
    " trW2 =(tr(K^2 %*% K^2) - 2*tr(Q) + tr(D%*%D))/(4*p^2)\n",
    " times$exact <- (proc.time() - t0)[\"elapsed\"]   \n",
    "    \n",
    "  #gamma = rnorm(p, mean = 0, sd = sqrt(s2_gxg / p))\n",
    "  #y <- mvrnorm(mu = as.vector(H %*% gamma), Sigma = s2_e * diag(n))\n",
    "  t1 <- proc.time()\n",
    "  y <- mvrnorm(mu = rep(0, n), Sigma = (1/(2*p))*(K*K - D)*s2_gxg  + s2_e * diag(n))\n",
    "  Dy <- diag(c(y))\n",
    "  times$y <- (proc.time() - t1)[\"elapsed\"]\n",
    "\n",
    "    \n",
    "  #### appromation part\n",
    "  #### trW^2\n",
    "  t2 <- proc.time()\n",
    "  Zmat <- replicate(N, {\n",
    "    u1 <- rnorm(m)\n",
    "    v  <- X %*% u1\n",
    "    v^2 - rowsumX2\n",
    "  })\n",
    "    z_hat <- rowSums(Zmat) / (2 * sqrt(N))\n",
    "     Dz <- diag(c(z_hat))\n",
    "    ##original method\n",
    "     #t(u2)%*%X%*%XT%*%Dz%*%X%*%XT%*%Dz%*%u2\n",
    "    \n",
    "    #method 1 \n",
    "    ## ensure every thing is matirx-vector\n",
    "    element1 <- sum(replicate(N, {u2 <- rnorm(n); \n",
    "                               v1 <- X %*% (t(X) %*% (z_hat * u2)); \n",
    "                               v2 <- z_hat * (X %*% (t(X) %*% u2));\n",
    "                               t(v2) %*% v1 }))/(2*p^2*N)\n",
    "    #method 2 \n",
    "    #KDz <- K %*% Dz\n",
    "    #KDz2 <- KDz%*%KDz\n",
    "    #element1<-sum(replicate(N, {\n",
    "    #   u2 <- rnorm(n) \n",
    "    #   val<-t(u2)%*%KDz2%*%u2\n",
    "    # }))/(2*p^2*N)\n",
    "\n",
    "    est_trW2 = c(element1 - (t(z_hat)%*%(X*X)%*%t((X*X))%*%z_hat)/(2*p^2))\n",
    "    times$trW2 <- (proc.time() - t2)[\"elapsed\"]\n",
    "\n",
    "\n",
    "    \n",
    "   #### trW checked    \n",
    "    t3 <- proc.time()\n",
    "   res_mat <- replicate(N, {\n",
    "      u <- rnorm(m)           \n",
    "      v <- X %*% u           \n",
    "      (v^2 - rowsumX2)^2     \n",
    "    })\n",
    "    est_trW <- sum(res_mat) / (4*p*N)\n",
    "    times$trW <- (proc.time() - t3)[\"elapsed\"]\n",
    "\n",
    "    \n",
    "    #### ytWy  \n",
    "    t4 <- proc.time()\n",
    "    #method 1 \n",
    "    ## ensure every thing is matirx-vector\n",
    "    est_kk <- sum(replicate(N, {u3 <- rnorm(n); \n",
    "                             v1 <- X %*% (t(X) %*% (y * u3)); \n",
    "                             v2 <- y * (X %*% (t(X) %*% u3));\n",
    "                             t(v2) %*% v1 }))/N\n",
    "    \n",
    "   #DyK = Dy %*% K\n",
    "   #Dyk2 = DyK %*% DyK\n",
    "   #est_kk<- sum(replicate(N, {\n",
    "   #   u3 <- rnorm(n)\n",
    "   #   value <- (t(u3) %*% Dyk2 %*% u3)\n",
    "   # }))/N\n",
    "\n",
    "    # value <- (t(u) %*% Dy %*% K %*% Dy %*% K %*% u)\n",
    "    est_yTW_haty <- est_kk/p_hat\n",
    "    est_yTWy<- (p_hat*est_yTW_haty - t(y)%*% ((X^2) %*% t(X^2))%*%y)/(2*p)\n",
    "    times$ytWy <- (proc.time() - t4)[\"elapsed\"]\n",
    "     ####the \\theat_hat \n",
    "     t5 <- proc.time()\n",
    "     exact_LHS <- matrix(c(trW2, trW, trW, n), 2, 2)\n",
    "     exact_RHS <- c(t(y) %*%W %*% y, t(y)%*% y)\n",
    "     var_exact <- solve(exact_LHS, exact_RHS) \n",
    "\n",
    "     app_LHS <- matrix(c(est_trW2, est_trW, est_trW, n), 2, 2)\n",
    "     app_RHS <- c(est_yTWy, t(y)%*% y)\n",
    "     var_app <- solve(app_LHS, app_RHS) \n",
    "     times$solve <- (proc.time() - t5)[\"elapsed\"]\n",
    "    result <- c(var_exact[1], var_exact[2], var_app[1], var_app[2],\n",
    "              trW, est_trW, trW2, est_trW2,\n",
    "              (y %*% W %*% y), est_yTWy)\n",
    "    list(timing = times, output = result)\n",
    "}"
   ]
  },
  {
   "cell_type": "code",
   "execution_count": 136,
   "id": "4a9cd2f9-fa7e-4bb6-95e9-aaa4fbcc6ad4",
   "metadata": {
    "vscode": {
     "languageId": "r"
    }
   },
   "outputs": [
    {
     "data": {
      "text/html": [
       "<style>\n",
       ".list-inline {list-style: none; margin:0; padding: 0}\n",
       ".list-inline>li {display: inline-block}\n",
       ".list-inline>li:not(:last-child)::after {content: \"\\00b7\"; padding: 0 .5ex}\n",
       "</style>\n",
       "<ol class=list-inline><li>-7.67294964558573</li><li>-2.68647809699781</li><li>-1.17896312876036</li><li>-1.18515772556131</li><li>-5.5537178630777</li></ol>\n"
      ],
      "text/latex": [
       "\\begin{enumerate*}\n",
       "\\item -7.67294964558573\n",
       "\\item -2.68647809699781\n",
       "\\item -1.17896312876036\n",
       "\\item -1.18515772556131\n",
       "\\item -5.5537178630777\n",
       "\\end{enumerate*}\n"
      ],
      "text/markdown": [
       "1. -7.67294964558573\n",
       "2. -2.68647809699781\n",
       "3. -1.17896312876036\n",
       "4. -1.18515772556131\n",
       "5. -5.5537178630777\n",
       "\n",
       "\n"
      ],
      "text/plain": [
       "[1] -7.672950 -2.686478 -1.178963 -1.185158 -5.553718"
      ]
     },
     "metadata": {},
     "output_type": "display_data"
    }
   ],
   "source": [
    "n = 5\n",
    "m = 3\n",
    "N = 5\n",
    "s2_gxg = 0.7\n",
    "s2_e = 0.3\n",
    "p = m*(m-1)/2\n",
    "X = matrix(rnorm(n*m),nrow = n,ncol =m)\n",
    "K = X %*% t(X)\n",
    "D = (X^2) %*% t(X^2)\n",
    "y <- mvrnorm(mu = rep(0, n), Sigma = (1/(2*p))*(K*K - D)*s2_gxg  + s2_e * diag(n))\n",
    "Dy <- diag(c(y))\n",
    "u <- rnorm(n)\n",
    "DyK= Dy %*% K\n",
    "rowsumX2 = rowSums(X^2)\n",
    "Zmat <- replicate(N, {\n",
    "    u1 <- rnorm(m)\n",
    "    v  <- X %*% u1\n",
    "    v^2 - rowsumX2\n",
    "})\n",
    "z_hat <- rowSums(Zmat) / (2 * sqrt(N))\n",
    "\n",
    "\n",
    "Dz <- diag(c(z_hat))\n",
    "z_hat\n"
   ]
  },
  {
   "cell_type": "code",
   "execution_count": 23,
   "id": "09b8b714-88c2-4aa7-a029-d5e90baa1f02",
   "metadata": {
    "vscode": {
     "languageId": "r"
    }
   },
   "outputs": [
    {
     "data": {
      "text/html": [
       "<table class=\"dataframe\">\n",
       "<caption>A data.frame: 10 × 2</caption>\n",
       "<thead>\n",
       "\t<tr><th scope=col>V1</th><th scope=col>V1</th></tr>\n",
       "\t<tr><th scope=col>&lt;dbl&gt;</th><th scope=col>&lt;dbl&gt;</th></tr>\n",
       "</thead>\n",
       "<tbody>\n",
       "\t<tr><td>  0.5553190</td><td>  0.5553190</td></tr>\n",
       "\t<tr><td>  0.4545240</td><td>  0.4545240</td></tr>\n",
       "\t<tr><td> -0.1887499</td><td> -0.1887499</td></tr>\n",
       "\t<tr><td>  1.2068930</td><td>  1.2068930</td></tr>\n",
       "\t<tr><td>398.1902776</td><td>398.1902776</td></tr>\n",
       "\t<tr><td>422.9138866</td><td>422.9138866</td></tr>\n",
       "\t<tr><td>458.0650298</td><td>458.0650298</td></tr>\n",
       "\t<tr><td>417.5661578</td><td>417.5661578</td></tr>\n",
       "\t<tr><td>435.3592714</td><td>435.3592714</td></tr>\n",
       "\t<tr><td>431.5962396</td><td>431.5962396</td></tr>\n",
       "</tbody>\n",
       "</table>\n"
      ],
      "text/latex": [
       "A data.frame: 10 × 2\n",
       "\\begin{tabular}{ll}\n",
       " V1 & V1\\\\\n",
       " <dbl> & <dbl>\\\\\n",
       "\\hline\n",
       "\t   0.5553190 &   0.5553190\\\\\n",
       "\t   0.4545240 &   0.4545240\\\\\n",
       "\t  -0.1887499 &  -0.1887499\\\\\n",
       "\t   1.2068930 &   1.2068930\\\\\n",
       "\t 398.1902776 & 398.1902776\\\\\n",
       "\t 422.9138866 & 422.9138866\\\\\n",
       "\t 458.0650298 & 458.0650298\\\\\n",
       "\t 417.5661578 & 417.5661578\\\\\n",
       "\t 435.3592714 & 435.3592714\\\\\n",
       "\t 431.5962396 & 431.5962396\\\\\n",
       "\\end{tabular}\n"
      ],
      "text/markdown": [
       "\n",
       "A data.frame: 10 × 2\n",
       "\n",
       "| V1 &lt;dbl&gt; | V1 &lt;dbl&gt; |\n",
       "|---|---|\n",
       "|   0.5553190 |   0.5553190 |\n",
       "|   0.4545240 |   0.4545240 |\n",
       "|  -0.1887499 |  -0.1887499 |\n",
       "|   1.2068930 |   1.2068930 |\n",
       "| 398.1902776 | 398.1902776 |\n",
       "| 422.9138866 | 422.9138866 |\n",
       "| 458.0650298 | 458.0650298 |\n",
       "| 417.5661578 | 417.5661578 |\n",
       "| 435.3592714 | 435.3592714 |\n",
       "| 431.5962396 | 431.5962396 |\n",
       "\n"
      ],
      "text/plain": [
       "   V1          V1         \n",
       "1    0.5553190   0.5553190\n",
       "2    0.4545240   0.4545240\n",
       "3   -0.1887499  -0.1887499\n",
       "4    1.2068930   1.2068930\n",
       "5  398.1902776 398.1902776\n",
       "6  422.9138866 422.9138866\n",
       "7  458.0650298 458.0650298\n",
       "8  417.5661578 417.5661578\n",
       "9  435.3592714 435.3592714\n",
       "10 431.5962396 431.5962396"
      ]
     },
     "metadata": {},
     "output_type": "display_data"
    }
   ],
   "source": [
    "res <-as.data.frame(simulateVC(400, 100, 100, 0.7, 0.3)$output,colname = F)\n",
    "write.table(res,\"sdasdasd\", row.names=FALSE, col.names=FALSE, quote=FALSE) \n",
    "\n",
    "r<-read.table(\"sdasdasd\")\n",
    "w<-read.table(\"sdasdasd\")\n",
    "cbind(r,w)"
   ]
  },
  {
   "cell_type": "code",
   "execution_count": 39,
   "id": "242df0d5-88a9-479d-b7ac-a68021007aff",
   "metadata": {
    "vscode": {
     "languageId": "r"
    }
   },
   "outputs": [
    {
     "data": {
      "text/html": [
       "<style>\n",
       ".list-inline {list-style: none; margin:0; padding: 0}\n",
       ".list-inline>li {display: inline-block}\n",
       ".list-inline>li:not(:last-child)::after {content: \"\\00b7\"; padding: 0 .5ex}\n",
       "</style>\n",
       "<ol class=list-inline><li>0.581246756060458</li><li>0.405748231365065</li><li>0.570123758936724</li><li>0.413713379383935</li><li>1993.01226099866</li><li>2003.95369873237</li><li>2048.65746340895</li><li>2060.61113331993</li><li>1999.4367048746</li><li>2003.86582186673</li></ol>\n"
      ],
      "text/latex": [
       "\\begin{enumerate*}\n",
       "\\item 0.581246756060458\n",
       "\\item 0.405748231365065\n",
       "\\item 0.570123758936724\n",
       "\\item 0.413713379383935\n",
       "\\item 1993.01226099866\n",
       "\\item 2003.95369873237\n",
       "\\item 2048.65746340895\n",
       "\\item 2060.61113331993\n",
       "\\item 1999.4367048746\n",
       "\\item 2003.86582186673\n",
       "\\end{enumerate*}\n"
      ],
      "text/markdown": [
       "1. 0.581246756060458\n",
       "2. 0.405748231365065\n",
       "3. 0.570123758936724\n",
       "4. 0.413713379383935\n",
       "5. 1993.01226099866\n",
       "6. 2003.95369873237\n",
       "7. 2048.65746340895\n",
       "8. 2060.61113331993\n",
       "9. 1999.4367048746\n",
       "10. 2003.86582186673\n",
       "\n",
       "\n"
      ],
      "text/plain": [
       " [1]    0.5812468    0.4057482    0.5701238    0.4137134 1993.0122610\n",
       " [6] 2003.9536987 2048.6574634 2060.6111333 1999.4367049 2003.8658219"
      ]
     },
     "metadata": {},
     "output_type": "display_data"
    }
   ],
   "source": [
    "result <- vector(\"list\", 100)\n",
    "for (i in 1:100) {\n",
    "    result[[i]] <- simulateVC(1000, 1000, 200, 0.7, 0.3)$output\n",
    "}\n",
    "data <- as.data.frame(do.call(cbind, lapply(result, unlist)))\n",
    "write.csv(data, \"fixm_1000_1000_rnorm\")"
   ]
  },
  {
   "cell_type": "code",
   "execution_count": 5,
   "id": "d75ad5b4-66d9-4472-ab30-9438a5908ebb",
   "metadata": {
    "vscode": {
     "languageId": "r"
    }
   },
   "outputs": [],
   "source": [
    "result <- vector(\"list\", 25)\n",
    "for (i in 1:25) {\n",
    "    result[[i]] <- simulateVC(10000, 2500, 100, 0.7, 0.3)$output\n",
    "}\n",
    "\n",
    "data <- as.data.frame(do.call(cbind, lapply(result, unlist)))\n",
    "write.csv(data, \"10k_1\")"
   ]
  },
  {
   "cell_type": "code",
   "execution_count": 6,
   "id": "096d033c-3847-442e-a236-7317de5b9d3a",
   "metadata": {
    "vscode": {
     "languageId": "r"
    }
   },
   "outputs": [],
   "source": [
    "result <- vector(\"list\", 25)\n",
    "for (i in 1:25) {\n",
    "    result[[i]] <- simulateVC(10000, 2500, 100, 0.7, 0.3)$output\n",
    "}\n",
    "\n",
    "data <- as.data.frame(do.call(cbind, lapply(result, unlist)))\n",
    "write.csv(data, \"10k_2\")"
   ]
  },
  {
   "cell_type": "code",
   "execution_count": 7,
   "id": "a4a91a07-c517-48fc-bd82-74c3733ad78e",
   "metadata": {
    "vscode": {
     "languageId": "r"
    }
   },
   "outputs": [],
   "source": [
    "result <- vector(\"list\", 25)\n",
    "for (i in 1:25) {\n",
    "    result[[i]] <- simulateVC(10000, 2500, 100, 0.7, 0.3)$output\n",
    "}\n",
    "\n",
    "data <- as.data.frame(do.call(cbind, lapply(result, unlist)))\n",
    "write.csv(data, \"10k_3\")"
   ]
  },
  {
   "cell_type": "code",
   "execution_count": 8,
   "id": "77e8ccc6-f8ac-4f9b-9495-88c615ca5bd6",
   "metadata": {
    "vscode": {
     "languageId": "r"
    }
   },
   "outputs": [],
   "source": [
    "result <- vector(\"list\", 25)\n",
    "for (i in 1:25) {\n",
    "    result[[i]] <- simulateVC(10000, 3750, 100, 0.7, 0.3)$output\n",
    "}\n",
    "\n",
    "data <- as.data.frame(do.call(cbind, lapply(result, unlist)))\n",
    "write.csv(data, \"10k_4\")"
   ]
  },
  {
   "cell_type": "code",
   "execution_count": 32,
   "id": "684c971d-3be5-49b8-bfb0-092b0127fb16",
   "metadata": {
    "vscode": {
     "languageId": "r"
    }
   },
   "outputs": [
    {
     "data": {
      "text/html": [
       "<dl>\n",
       "\t<dt>$timing</dt>\n",
       "\t\t<dd><dl>\n",
       "\t<dt>$block1</dt>\n",
       "\t\t<dd><strong>elapsed:</strong> 0.5</dd>\n",
       "\t<dt>$block2</dt>\n",
       "\t\t<dd><strong>elapsed:</strong> 2.05000000000018</dd>\n",
       "\t<dt>$block3</dt>\n",
       "\t\t<dd><strong>elapsed:</strong> 25.1599999999999</dd>\n",
       "\t<dt>$block4</dt>\n",
       "\t\t<dd><strong>elapsed:</strong> 14.54</dd>\n",
       "\t<dt>$block5</dt>\n",
       "\t\t<dd><strong>elapsed:</strong> 3.18000000000006</dd>\n",
       "\t<dt>$block6</dt>\n",
       "\t\t<dd><strong>elapsed:</strong> 0.00999999999999091</dd>\n",
       "</dl>\n",
       "</dd>\n",
       "\t<dt>$output</dt>\n",
       "\t\t<dd><style>\n",
       ".list-inline {list-style: none; margin:0; padding: 0}\n",
       ".list-inline>li {display: inline-block}\n",
       ".list-inline>li:not(:last-child)::after {content: \"\\00b7\"; padding: 0 .5ex}\n",
       "</style>\n",
       "<ol class=list-inline><li>0.834081819956707</li><li>0.195319245851801</li><li>-21.0501779286315</li><li>21.7852399389556</li><li>2006.84091904341</li><li>1971.76346921199</li><li>2078.60310107684</li><li>1941.39611843249</li><li>2125.69971236593</li><li>2088.60655669209</li></ol>\n",
       "</dd>\n",
       "</dl>\n"
      ],
      "text/latex": [
       "\\begin{description}\n",
       "\\item[\\$timing] \\begin{description}\n",
       "\\item[\\$block1] \\textbf{elapsed:} 0.5\n",
       "\\item[\\$block2] \\textbf{elapsed:} 2.05000000000018\n",
       "\\item[\\$block3] \\textbf{elapsed:} 25.1599999999999\n",
       "\\item[\\$block4] \\textbf{elapsed:} 14.54\n",
       "\\item[\\$block5] \\textbf{elapsed:} 3.18000000000006\n",
       "\\item[\\$block6] \\textbf{elapsed:} 0.00999999999999091\n",
       "\\end{description}\n",
       "\n",
       "\\item[\\$output] \\begin{enumerate*}\n",
       "\\item 0.834081819956707\n",
       "\\item 0.195319245851801\n",
       "\\item -21.0501779286315\n",
       "\\item 21.7852399389556\n",
       "\\item 2006.84091904341\n",
       "\\item 1971.76346921199\n",
       "\\item 2078.60310107684\n",
       "\\item 1941.39611843249\n",
       "\\item 2125.69971236593\n",
       "\\item 2088.60655669209\n",
       "\\end{enumerate*}\n",
       "\n",
       "\\end{description}\n"
      ],
      "text/markdown": [
       "$timing\n",
       ":   $block1\n",
       ":   **elapsed:** 0.5\n",
       "$block2\n",
       ":   **elapsed:** 2.05000000000018\n",
       "$block3\n",
       ":   **elapsed:** 25.1599999999999\n",
       "$block4\n",
       ":   **elapsed:** 14.54\n",
       "$block5\n",
       ":   **elapsed:** 3.18000000000006\n",
       "$block6\n",
       ":   **elapsed:** 0.00999999999999091\n",
       "\n",
       "\n",
       "\n",
       "$output\n",
       ":   1. 0.834081819956707\n",
       "2. 0.195319245851801\n",
       "3. -21.0501779286315\n",
       "4. 21.7852399389556\n",
       "5. 2006.84091904341\n",
       "6. 1971.76346921199\n",
       "7. 2078.60310107684\n",
       "8. 1941.39611843249\n",
       "9. 2125.69971236593\n",
       "10. 2088.60655669209\n",
       "\n",
       "\n",
       "\n",
       "\n",
       "\n"
      ],
      "text/plain": [
       "$timing\n",
       "$timing$block1\n",
       "elapsed \n",
       "    0.5 \n",
       "\n",
       "$timing$block2\n",
       "elapsed \n",
       "   2.05 \n",
       "\n",
       "$timing$block3\n",
       "elapsed \n",
       "  25.16 \n",
       "\n",
       "$timing$block4\n",
       "elapsed \n",
       "  14.54 \n",
       "\n",
       "$timing$block5\n",
       "elapsed \n",
       "   3.18 \n",
       "\n",
       "$timing$block6\n",
       "elapsed \n",
       "   0.01 \n",
       "\n",
       "\n",
       "$output\n",
       " [1]    0.8340818    0.1953192  -21.0501779   21.7852399 2006.8409190\n",
       " [6] 1971.7634692 2078.6031011 1941.3961184 2125.6997124 2088.6065567\n"
      ]
     },
     "metadata": {},
     "output_type": "display_data"
    }
   ],
   "source": [
    "simulateVC_timed(2000, 500, 100, 0.7, 0.3)"
   ]
  },
  {
   "cell_type": "code",
   "execution_count": 30,
   "id": "8ac03945-2207-4126-a245-60259d2c8933",
   "metadata": {
    "vscode": {
     "languageId": "r"
    }
   },
   "outputs": [
    {
     "data": {
      "text/plain": [
       "   user  system elapsed \n",
       "  79.55    4.00   78.48 "
      ]
     },
     "metadata": {},
     "output_type": "display_data"
    },
    {
     "name": "stdout",
     "output_type": "stream",
     "text": [
      "[1] 4037.449\n"
     ]
    },
    {
     "data": {
      "text/plain": [
       "   user  system elapsed \n",
       "  15.25    0.43    8.95 "
      ]
     },
     "metadata": {},
     "output_type": "display_data"
    },
    {
     "name": "stdout",
     "output_type": "stream",
     "text": [
      "[1] 4084.555\n"
     ]
    }
   ],
   "source": [
    "n = 4000\n",
    "m = 1000\n",
    "s2_gxg = 0.7\n",
    "s2_e = 0.3\n",
    "N = 100\n",
    "p = m*(m-1)/2\n",
    "X     <- matrix(rnorm(n*m), nrow = n,    ncol = m)\n",
    "XT <- t(X)\n",
    "t0 <- proc.time()\n",
    "   z_hat = matrix(0, nrow = n, ncol = 1)\n",
    "     result<- replicate(N, {\n",
    "       for (i in 1:n) {\n",
    "         u1 <-rnorm(m)\n",
    "         z_hat[i,] <-t(u1)%*%X[i,]%*%X[i,]%*%u1-t(X[i,])%*%X[i,]\n",
    "       }\n",
    "       z_hat\n",
    "     })\n",
    "     z_hat <- apply(result, 1, sum)/(2*sqrt(N))\n",
    "     Dz <- diag(c(z_hat))\n",
    "     element1<-sum(replicate(N, {\n",
    "       u2 <- rnorm(n) \n",
    "       val<-t(u2)%*%X%*%XT%*%Dz%*%X%*%XT%*%Dz%*%u2\n",
    "     }))/(2*p^2*N)\n",
    "     est_trW2 = c(element1 - (t(z_hat)%*%(X*X)%*%t((X*X))%*%z_hat)/(2*p^2))\n",
    "proc.time()-t0\n",
    "print(est_trW2)\n",
    "t1 <- proc.time()\n",
    " row_sq <- rowSums(X^2)\n",
    "  Zmat <- replicate(N, {\n",
    "    u1 <- rnorm(m)\n",
    "    v  <- X %*% u1\n",
    "    v^2 - row_sq\n",
    "  })\n",
    "  z_hat <- rowSums(Zmat) / (2 * sqrt(N))\n",
    "\n",
    "     Dz <- diag(c(z_hat))\n",
    "     element1<-sum(replicate(N, {\n",
    "       u2 <- rnorm(n) \n",
    "       val<-t(u2)%*%X%*%XT%*%Dz%*%X%*%XT%*%Dz%*%u2\n",
    "     }))/(2*p^2*N)\n",
    "     est_trW2 = c(element1 - (t(z_hat)%*%(X*X)%*%t((X*X))%*%z_hat)/(2*p^2))\n",
    "proc.time()-t1\n",
    "print(est_trW2)"
   ]
  },
  {
   "cell_type": "code",
   "execution_count": null,
   "id": "a1575910-5407-4ae2-939c-39151a049333",
   "metadata": {
    "vscode": {
     "languageId": "r"
    }
   },
   "outputs": [],
   "source": [
    "\n",
    "\n"
   ]
  },
  {
   "cell_type": "code",
   "execution_count": 60,
   "id": "4c19f355-edf9-4d75-aed6-39427ec6c8c2",
   "metadata": {
    "vscode": {
     "languageId": "r"
    }
   },
   "outputs": [
    {
     "data": {
      "text/html": [
       "2.11761206100152"
      ],
      "text/latex": [
       "2.11761206100152"
      ],
      "text/markdown": [
       "2.11761206100152"
      ],
      "text/plain": [
       "[1] 2.117612"
      ]
     },
     "metadata": {},
     "output_type": "display_data"
    }
   ],
   "source": [
    "res_mat <- replicate(N, {\n",
    "  u <- rnorm(m)           # draw m-vector\n",
    "  v <- X %*% u            # n-vector: each entry = X[t,] %*% u\n",
    "  (v^2 - rowSums(X^2))^2        # vector of length n\n",
    "})\n",
    "\n",
    "trW_hat <- sum(res_mat) / (4 * p * N)\n",
    "trW_hat"
   ]
  },
  {
   "cell_type": "code",
   "execution_count": 61,
   "id": "1d3b7586-ecc6-4f22-969d-d103c9fdb79f",
   "metadata": {
    "vscode": {
     "languageId": "r"
    }
   },
   "outputs": [
    {
     "data": {
      "text/html": [
       "2.03544254554038"
      ],
      "text/latex": [
       "2.03544254554038"
      ],
      "text/markdown": [
       "2.03544254554038"
      ],
      "text/plain": [
       "[1] 2.035443"
      ]
     },
     "metadata": {},
     "output_type": "display_data"
    }
   ],
   "source": [
    "est_trW <- sum(replicate(N, {\n",
    "    u1 <- rnorm(m)\n",
    "    sum(sapply(1:n, function(i) {\n",
    "      ((t(u1)%*%X[i,]%*%X[i,]%*%u1) - (t(X[i,])%*%X[i,]))^2\n",
    "    }))\n",
    "  })) / (4*p*N)\n",
    "est_trW"
   ]
  },
  {
   "cell_type": "code",
   "execution_count": null,
   "id": "ee7fb407-9283-4931-addd-b83f09586866",
   "metadata": {
    "vscode": {
     "languageId": "r"
    }
   },
   "outputs": [],
   "source": []
  }
 ],
 "metadata": {
  "kernelspec": {
   "display_name": "R",
   "language": "R",
   "name": "ir"
  },
  "language_info": {
   "codemirror_mode": "r",
   "file_extension": ".r",
   "mimetype": "text/x-r-source",
   "name": "R",
   "pygments_lexer": "r",
   "version": "4.4.1"
  }
 },
 "nbformat": 4,
 "nbformat_minor": 5
}
